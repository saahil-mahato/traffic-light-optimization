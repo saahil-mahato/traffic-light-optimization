{
 "cells": [
  {
   "cell_type": "code",
   "execution_count": 116,
   "metadata": {},
   "outputs": [],
   "source": [
    "import random\n",
    "from deap import base, creator, tools, algorithms\n",
    "import numpy as np"
   ]
  },
  {
   "cell_type": "code",
   "execution_count": 117,
   "metadata": {},
   "outputs": [],
   "source": [
    "# Define constants for traffic light timings\n",
    "GREEN_MIN, GREEN_MAX = 10, 60   # Green light duration (seconds)\n",
    "YELLOW_MIN, YELLOW_MAX = 3, 10   # Yellow light duration (seconds)\n",
    "RED_MIN, RED_MAX = 10, 60       # Red light duration (seconds)"
   ]
  },
  {
   "cell_type": "code",
   "execution_count": 118,
   "metadata": {},
   "outputs": [],
   "source": [
    "# Define traffic parameters (example values)\n",
    "num_junctions = 3\n",
    "length_junctions = [200, 300, 250]  # Length of each junction (in meters)\n",
    "distance_between_junctions = [100, 150]  # Distance between each junction (in meters)\n",
    "traffic_density = 70  # Traffic density as a percentage\n",
    "average_speed = 30  # Average speed of vehicles (in km/h)"
   ]
  },
  {
   "cell_type": "code",
   "execution_count": 119,
   "metadata": {},
   "outputs": [],
   "source": [
    "# Set up DEAP for the genetic algorithm\n",
    "\n",
    "# Step 1: Create Fitness and Individual classes\n",
    "creator.create(\"FitnessMin\", base.Fitness, weights=(-1.0,))  # Minimize the fitness function (traffic delay)\n",
    "creator.create(\"Individual\", list, fitness=creator.FitnessMin)"
   ]
  },
  {
   "cell_type": "code",
   "execution_count": 120,
   "metadata": {},
   "outputs": [],
   "source": [
    "# Step 2: Define the individual creation function\n",
    "toolbox = base.Toolbox()\n",
    "toolbox.register(\"attr_green\", random.randint, GREEN_MIN, GREEN_MAX)\n",
    "toolbox.register(\"attr_yellow\", random.randint, YELLOW_MIN, YELLOW_MAX)\n",
    "toolbox.register(\"attr_red\", random.randint, RED_MIN, RED_MAX)"
   ]
  },
  {
   "cell_type": "code",
   "execution_count": 121,
   "metadata": {},
   "outputs": [],
   "source": [
    "# Each individual is represented by a tuple of (green, yellow, red) durations\n",
    "toolbox.register(\"individual\", tools.initCycle, creator.Individual,\n",
    "                 (toolbox.attr_green, toolbox.attr_yellow, toolbox.attr_red), n=num_junctions)\n",
    "toolbox.register(\"population\", tools.initRepeat, list, toolbox.individual)"
   ]
  },
  {
   "cell_type": "code",
   "execution_count": 122,
   "metadata": {},
   "outputs": [],
   "source": [
    "# Step 3: Define the fitness function\n",
    "def evaluate(individual):\n",
    "    \"\"\"\n",
    "    Fitness function that calculates the traffic flow efficiency as throughput minus wait time.\n",
    "    This function considers traffic flowing from North-South and East-West directions.\n",
    "    \"\"\"\n",
    "    total_throughput = 0  # Total vehicles that passed through the junctions\n",
    "    total_wait_time = 0    # Total waiting time for vehicles\n",
    "\n",
    "    for i in range(num_junctions):\n",
    "        # Extract the timings for the current junction\n",
    "        green_time = individual[i * 3]\n",
    "        yellow_time = individual[i * 3 + 1]\n",
    "        red_time = individual[i * 3 + 2]\n",
    "\n",
    "        # Validate the timings\n",
    "        if not (GREEN_MIN <= green_time <= GREEN_MAX):\n",
    "            return float('inf'),  # Return an infeasible solution if green time is out of bounds\n",
    "        if not (YELLOW_MIN <= yellow_time <= YELLOW_MAX):\n",
    "            return float('inf'),  # Return an infeasible solution if yellow time is out of bounds\n",
    "        if not (RED_MIN <= red_time <= RED_MAX):\n",
    "            return float('inf'),  # Return an infeasible solution if red time is out of bounds\n",
    "\n",
    "        # Calculate throughput for the green phase\n",
    "        vehicles_passed = (green_time * average_speed / 3.6) / length_junctions[i]  # Number of vehicles per green time\n",
    "        total_throughput += max(vehicles_passed, 0)\n",
    "\n",
    "        # Calculate waiting time\n",
    "        # Assume a constant number of vehicles waiting during red\n",
    "        # We can use traffic_density as a proxy for the number of waiting vehicles\n",
    "        # Vehicles waiting during red and yellow times\n",
    "        waiting_vehicles = traffic_density / 100 * (length_junctions[i] / average_speed) * (red_time + yellow_time)\n",
    "        total_wait_time += max(waiting_vehicles, 0)\n",
    "\n",
    "    # The fitness is defined as total throughput minus total wait time (maximize throughput and minimize wait)\n",
    "    fitness = total_throughput - total_wait_time\n",
    "    return fitness,\n",
    "\n",
    "toolbox.register(\"evaluate\", evaluate)"
   ]
  },
  {
   "cell_type": "code",
   "execution_count": 123,
   "metadata": {},
   "outputs": [],
   "source": [
    "# Step 4: Register GA operations (selection, crossover, mutation)\n",
    "toolbox.register(\"mate\", tools.cxBlend, alpha=0.5)\n",
    "toolbox.register(\"mutate\", tools.mutUniformInt, low=[GREEN_MIN, YELLOW_MIN, RED_MIN]*num_junctions, \n",
    "                 up=[GREEN_MAX, YELLOW_MAX, RED_MAX]*num_junctions, indpb=0.2)\n",
    "toolbox.register(\"select\", tools.selTournament, tournsize=3)"
   ]
  },
  {
   "cell_type": "code",
   "execution_count": 124,
   "metadata": {},
   "outputs": [],
   "source": [
    "# Step 5: Run the GA\n",
    "def run_ga():\n",
    "    random.seed(42)\n",
    "    population = toolbox.population(n=50)\n",
    "    generations = 100\n",
    "\n",
    "    # Run the genetic algorithm\n",
    "    result = algorithms.eaSimple(population, toolbox, cxpb=0.5, mutpb=0.2, ngen=generations, verbose=False)\n",
    "    \n",
    "    # Extract the best individual\n",
    "    best_individual = tools.selBest(population, k=1)[0]\n",
    "    best_green_yellow_red = [(best_individual[i*3], best_individual[i*3+1], best_individual[i*3+2]) for i in range(num_junctions)]\n",
    "    \n",
    "    print(\"Optimized green, yellow, and red durations per junction:\")\n",
    "    for j, durations in enumerate(best_green_yellow_red):\n",
    "        print(f\"Junction {j+1} - Green: {durations[0]} sec, Yellow: {durations[1]} sec, Red: {durations[2]} sec\")"
   ]
  },
  {
   "cell_type": "code",
   "execution_count": 125,
   "metadata": {},
   "outputs": [
    {
     "name": "stdout",
     "output_type": "stream",
     "text": [
      "Optimized green, yellow, and red durations per junction:\n",
      "Junction 1 - Green: 10.68384587142115 sec, Yellow: 9.95796054524655 sec, Red: 59.9791287535454 sec\n",
      "Junction 2 - Green: 10.714413413393759 sec, Yellow: 9.999455800133875 sec, Red: 59.30559365790809 sec\n",
      "Junction 3 - Green: 12.00150267755388 sec, Yellow: 9.964648695372041 sec, Red: 56.94248195347669 sec\n"
     ]
    }
   ],
   "source": [
    "run_ga()"
   ]
  },
  {
   "cell_type": "code",
   "execution_count": null,
   "metadata": {},
   "outputs": [],
   "source": []
  }
 ],
 "metadata": {
  "kernelspec": {
   "display_name": "env",
   "language": "python",
   "name": "python3"
  },
  "language_info": {
   "codemirror_mode": {
    "name": "ipython",
    "version": 3
   },
   "file_extension": ".py",
   "mimetype": "text/x-python",
   "name": "python",
   "nbconvert_exporter": "python",
   "pygments_lexer": "ipython3",
   "version": "3.12.3"
  }
 },
 "nbformat": 4,
 "nbformat_minor": 2
}
