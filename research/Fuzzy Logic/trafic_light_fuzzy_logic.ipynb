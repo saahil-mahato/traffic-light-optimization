{
 "cells": [
  {
   "cell_type": "code",
   "execution_count": 2,
   "metadata": {},
   "outputs": [],
   "source": [
    "import numpy as np\n",
    "import skfuzzy as fuzz\n",
    "from skfuzzy import control as ctrl"
   ]
  },
  {
   "cell_type": "code",
   "execution_count": 3,
   "metadata": {},
   "outputs": [],
   "source": [
    "# Step 1: Define fuzzy variables\n",
    "# Inputs\n",
    "num_junctions = ctrl.Antecedent(np.arange(1, 11, 1), 'num_junctions')\n",
    "length_junction = ctrl.Antecedent(np.arange(0, 501, 1), 'length_junction')\n",
    "distance_between = ctrl.Antecedent(np.arange(0, 1001, 1), 'distance_between')\n",
    "traffic_density = ctrl.Antecedent(np.arange(0, 101, 1), 'traffic_density')\n",
    "avg_speed = ctrl.Antecedent(np.arange(0, 61, 1), 'avg_speed')"
   ]
  },
  {
   "cell_type": "code",
   "execution_count": 4,
   "metadata": {},
   "outputs": [],
   "source": [
    "# Outputs\n",
    "red_duration = ctrl.Consequent(np.arange(10, 101, 1), 'red_duration')\n",
    "green_duration = ctrl.Consequent(np.arange(10, 101, 1), 'green_duration')\n",
    "yellow_duration = ctrl.Consequent(np.arange(3, 11, 1), 'yellow_duration')"
   ]
  },
  {
   "cell_type": "code",
   "execution_count": 5,
   "metadata": {},
   "outputs": [],
   "source": [
    "# Step 2: Define membership functions\n",
    "# Membership for number of junctions\n",
    "num_junctions['few'] = fuzz.trimf(num_junctions.universe, [1, 1, 5])\n",
    "num_junctions['moderate'] = fuzz.trimf(num_junctions.universe, [1, 5, 10])\n",
    "num_junctions['many'] = fuzz.trimf(num_junctions.universe, [5, 10, 10])"
   ]
  },
  {
   "cell_type": "code",
   "execution_count": 6,
   "metadata": {},
   "outputs": [],
   "source": [
    "# Membership for length of junction\n",
    "length_junction['short'] = fuzz.trimf(length_junction.universe, [0, 0, 250])\n",
    "length_junction['medium'] = fuzz.trimf(length_junction.universe, [0, 250, 500])\n",
    "length_junction['long'] = fuzz.trimf(length_junction.universe, [250, 500, 500])"
   ]
  },
  {
   "cell_type": "code",
   "execution_count": 7,
   "metadata": {},
   "outputs": [],
   "source": [
    "# Membership for distance between junctions\n",
    "distance_between['close'] = fuzz.trimf(distance_between.universe, [0, 0, 500])\n",
    "distance_between['moderate'] = fuzz.trimf(distance_between.universe, [0, 500, 1000])\n",
    "distance_between['far'] = fuzz.trimf(distance_between.universe, [500, 1000, 1000])\n"
   ]
  },
  {
   "cell_type": "code",
   "execution_count": 8,
   "metadata": {},
   "outputs": [],
   "source": [
    "# Membership for traffic density\n",
    "traffic_density['low'] = fuzz.trimf(traffic_density.universe, [0, 0, 50])\n",
    "traffic_density['medium'] = fuzz.trimf(traffic_density.universe, [0, 50, 100])\n",
    "traffic_density['high'] = fuzz.trimf(traffic_density.universe, [50, 100, 100])"
   ]
  },
  {
   "cell_type": "code",
   "execution_count": 9,
   "metadata": {},
   "outputs": [],
   "source": [
    "# Membership for average speed\n",
    "avg_speed['slow'] = fuzz.trimf(avg_speed.universe, [0, 0, 30])\n",
    "avg_speed['moderate'] = fuzz.trimf(avg_speed.universe, [0, 30, 60])\n",
    "avg_speed['fast'] = fuzz.trimf(avg_speed.universe, [30, 60, 60])"
   ]
  },
  {
   "cell_type": "code",
   "execution_count": 10,
   "metadata": {},
   "outputs": [],
   "source": [
    "# Membership for red light duration\n",
    "red_duration['short'] = fuzz.trimf(red_duration.universe, [10, 10, 40])\n",
    "red_duration['medium'] = fuzz.trimf(red_duration.universe, [10, 40, 80])\n",
    "red_duration['long'] = fuzz.trimf(red_duration.universe, [40, 80, 100])"
   ]
  },
  {
   "cell_type": "code",
   "execution_count": 11,
   "metadata": {},
   "outputs": [],
   "source": [
    "# Membership for green light duration\n",
    "green_duration['short'] = fuzz.trimf(green_duration.universe, [10, 10, 40])\n",
    "green_duration['medium'] = fuzz.trimf(green_duration.universe, [10, 40, 80])\n",
    "green_duration['long'] = fuzz.trimf(green_duration.universe, [40, 80, 100])"
   ]
  },
  {
   "cell_type": "code",
   "execution_count": 12,
   "metadata": {},
   "outputs": [],
   "source": [
    "# Membership for yellow light duration\n",
    "yellow_duration['short'] = fuzz.trimf(yellow_duration.universe, [3, 3, 7])\n",
    "yellow_duration['medium'] = fuzz.trimf(yellow_duration.universe, [3, 7, 10])\n",
    "yellow_duration['long'] = fuzz.trimf(yellow_duration.universe, [7, 10, 10])"
   ]
  },
  {
   "cell_type": "code",
   "execution_count": 13,
   "metadata": {},
   "outputs": [],
   "source": [
    "# Step 2: Define membership labels for iteration\n",
    "num_junctions_labels = ['few', 'moderate', 'many']\n",
    "length_junction_labels = ['short', 'medium', 'long']\n",
    "distance_between_labels = ['close', 'moderate', 'far']\n",
    "traffic_density_labels = ['low', 'medium', 'high']\n",
    "avg_speed_labels = ['slow', 'moderate', 'fast']\n"
   ]
  },
  {
   "cell_type": "code",
   "execution_count": 14,
   "metadata": {},
   "outputs": [],
   "source": [
    "# Modify rule creation to specify each consequent individually in a list format\n",
    "rules = []\n",
    "\n",
    "for nj_label in num_junctions_labels:\n",
    "    for lj_label in length_junction_labels:\n",
    "        for db_label in distance_between_labels:\n",
    "            for td_label in traffic_density_labels:\n",
    "                for as_label in avg_speed_labels:\n",
    "                    # Define the conditions for the rule\n",
    "                    condition = (num_junctions[nj_label] &\n",
    "                                 length_junction[lj_label] &\n",
    "                                 distance_between[db_label] &\n",
    "                                 traffic_density[td_label] &\n",
    "                                 avg_speed[as_label])\n",
    "                    \n",
    "                    # Define default actions (customizable)\n",
    "                    if td_label == 'high' and as_label == 'slow':\n",
    "                        actions = [\n",
    "                            green_duration['long'],\n",
    "                            red_duration['short'],\n",
    "                            yellow_duration['medium']\n",
    "                        ]\n",
    "                    elif td_label == 'low' and as_label == 'fast':\n",
    "                        actions = [\n",
    "                            red_duration['long'],\n",
    "                            green_duration['short'],\n",
    "                            yellow_duration['short']\n",
    "                        ]\n",
    "                    else:\n",
    "                        actions = [\n",
    "                            green_duration['medium'],\n",
    "                            red_duration['medium'],\n",
    "                            yellow_duration['medium']\n",
    "                        ]\n",
    "                    \n",
    "                    # Create and append the rule for each set of actions\n",
    "                    rule = ctrl.Rule(condition, actions)\n",
    "                    rules.append(rule)\n"
   ]
  },
  {
   "cell_type": "code",
   "execution_count": 15,
   "metadata": {},
   "outputs": [],
   "source": [
    "# Step 4: Create a control system with all rules\n",
    "traffic_light_ctrl = ctrl.ControlSystem(rules)\n",
    "traffic_light_simulation = ctrl.ControlSystemSimulation(traffic_light_ctrl)"
   ]
  },
  {
   "cell_type": "code",
   "execution_count": 16,
   "metadata": {},
   "outputs": [],
   "source": [
    "# Step 5: Input values and compute output\n",
    "traffic_light_simulation.input['num_junctions'] = 3\n",
    "traffic_light_simulation.input['length_junction'] = 350\n",
    "traffic_light_simulation.input['distance_between'] = 400\n",
    "traffic_light_simulation.input['traffic_density'] = 70\n",
    "traffic_light_simulation.input['avg_speed'] = 20\n",
    "\n",
    "traffic_light_simulation.compute()"
   ]
  },
  {
   "cell_type": "code",
   "execution_count": 17,
   "metadata": {},
   "outputs": [
    {
     "name": "stdout",
     "output_type": "stream",
     "text": [
      "Red Light Duration: 42.06 seconds\n",
      "Green Light Duration: 53.23 seconds\n",
      "Yellow Light Duration: 6.61 seconds\n"
     ]
    }
   ],
   "source": [
    "# Output the results\n",
    "print(f\"Red Light Duration: {traffic_light_simulation.output['red_duration']:.2f} seconds\")\n",
    "print(f\"Green Light Duration: {traffic_light_simulation.output['green_duration']:.2f} seconds\")\n",
    "print(f\"Yellow Light Duration: {traffic_light_simulation.output['yellow_duration']:.2f} seconds\")"
   ]
  }
 ],
 "metadata": {
  "kernelspec": {
   "display_name": "env",
   "language": "python",
   "name": "python3"
  },
  "language_info": {
   "codemirror_mode": {
    "name": "ipython",
    "version": 3
   },
   "file_extension": ".py",
   "mimetype": "text/x-python",
   "name": "python",
   "nbconvert_exporter": "python",
   "pygments_lexer": "ipython3",
   "version": "3.12.3"
  }
 },
 "nbformat": 4,
 "nbformat_minor": 2
}
