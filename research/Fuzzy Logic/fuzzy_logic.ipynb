{
 "cells": [
  {
   "cell_type": "code",
   "execution_count": 1,
   "metadata": {},
   "outputs": [],
   "source": [
    "import numpy as np\n",
    "import skfuzzy as fuzz\n",
    "from skfuzzy import control as ctrl"
   ]
  },
  {
   "cell_type": "code",
   "execution_count": 2,
   "metadata": {},
   "outputs": [],
   "source": [
    "# Step 1: Define fuzzy variables\n",
    "# Input: service quality and food quality\n",
    "service = ctrl.Antecedent(np.arange(0, 11, 1), 'service')\n",
    "food = ctrl.Antecedent(np.arange(0, 11, 1), 'food')\n",
    "# Output: tip amount\n",
    "tip = ctrl.Consequent(np.arange(0, 26, 1), 'tip')"
   ]
  },
  {
   "cell_type": "code",
   "execution_count": 3,
   "metadata": {},
   "outputs": [],
   "source": [
    "# Step 2: Define membership functions\n",
    "# Membership functions for service\n",
    "service['poor'] = fuzz.trimf(service.universe, [0, 0, 5])\n",
    "service['average'] = fuzz.trimf(service.universe, [0, 5, 10])\n",
    "service['good'] = fuzz.trimf(service.universe, [5, 10, 10])"
   ]
  },
  {
   "cell_type": "code",
   "execution_count": 4,
   "metadata": {},
   "outputs": [],
   "source": [
    "# Membership functions for food\n",
    "food['bad'] = fuzz.trimf(food.universe, [0, 0, 5])\n",
    "food['average'] = fuzz.trimf(food.universe, [0, 5, 10])\n",
    "food['delicious'] = fuzz.trimf(food.universe, [5, 10, 10])"
   ]
  },
  {
   "cell_type": "code",
   "execution_count": 5,
   "metadata": {},
   "outputs": [],
   "source": [
    "# Membership functions for tip\n",
    "tip['low'] = fuzz.trimf(tip.universe, [0, 0, 13])\n",
    "tip['medium'] = fuzz.trimf(tip.universe, [0, 13, 25])\n",
    "tip['high'] = fuzz.trimf(tip.universe, [13, 25, 25])"
   ]
  },
  {
   "cell_type": "code",
   "execution_count": 6,
   "metadata": {},
   "outputs": [],
   "source": [
    "# Step 3: Define fuzzy rules\n",
    "rule1 = ctrl.Rule(service['poor'] | food['bad'], tip['low'])\n",
    "rule2 = ctrl.Rule(service['average'], tip['medium'])\n",
    "rule3 = ctrl.Rule(service['good'] | food['delicious'], tip['high'])"
   ]
  },
  {
   "cell_type": "code",
   "execution_count": 7,
   "metadata": {},
   "outputs": [],
   "source": [
    "# Step 4: Create a control system and simulation\n",
    "tipping_ctrl = ctrl.ControlSystem([rule1, rule2, rule3])\n",
    "tipping = ctrl.ControlSystemSimulation(tipping_ctrl)"
   ]
  },
  {
   "cell_type": "code",
   "execution_count": 10,
   "metadata": {},
   "outputs": [],
   "source": [
    "# Step 5: Input values and compute the output\n",
    "tipping.input['service'] = 8.5  # Example service rating\n",
    "tipping.input['food'] = 6.5     # Example food rating\n",
    "tipping.compute()               # Compute the tip"
   ]
  },
  {
   "cell_type": "code",
   "execution_count": 11,
   "metadata": {},
   "outputs": [
    {
     "name": "stdout",
     "output_type": "stream",
     "text": [
      "Suggested tip: 15.61%\n"
     ]
    }
   ],
   "source": [
    "# Output the result\n",
    "print(f\"Suggested tip: {tipping.output['tip']:.2f}%\")"
   ]
  }
 ],
 "metadata": {
  "kernelspec": {
   "display_name": "env",
   "language": "python",
   "name": "python3"
  },
  "language_info": {
   "codemirror_mode": {
    "name": "ipython",
    "version": 3
   },
   "file_extension": ".py",
   "mimetype": "text/x-python",
   "name": "python",
   "nbconvert_exporter": "python",
   "pygments_lexer": "ipython3",
   "version": "3.12.3"
  }
 },
 "nbformat": 4,
 "nbformat_minor": 2
}
